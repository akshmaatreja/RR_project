{
 "cells": [
  {
   "cell_type": "markdown",
   "id": "b5772890",
   "metadata": {},
   "source": [
    "### REPRODUCIABLE RESEARCH PROJECT"
   ]
  },
  {
   "cell_type": "code",
   "execution_count": null,
   "id": "e502406a",
   "metadata": {},
   "outputs": [],
   "source": []
  }
 ],
 "metadata": {
  "language_info": {
   "name": "python"
  }
 },
 "nbformat": 4,
 "nbformat_minor": 5
}
